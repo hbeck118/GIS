{
  "nbformat": 4,
  "nbformat_minor": 0,
  "metadata": {
    "colab": {
      "provenance": [],
      "authorship_tag": "ABX9TyOsG3bIJ9bJ8CpcfW3g0Y4A",
      "include_colab_link": true
    },
    "kernelspec": {
      "name": "python3",
      "display_name": "Python 3"
    },
    "language_info": {
      "name": "python"
    }
  },
  "cells": [
    {
      "cell_type": "markdown",
      "metadata": {
        "id": "view-in-github",
        "colab_type": "text"
      },
      "source": [
        "<a href=\"https://colab.research.google.com/github/hbeck118/GIS/blob/main/PracticeBasics.ipynb\" target=\"_parent\"><img src=\"https://colab.research.google.com/assets/colab-badge.svg\" alt=\"Open In Colab\"/></a>"
      ]
    },
    {
      "cell_type": "code",
      "source": [
        "print('Hello world')"
      ],
      "metadata": {
        "colab": {
          "base_uri": "https://localhost:8080/"
        },
        "id": "sDPf2hGX5amb",
        "outputId": "6d29c6e8-f13b-4dde-b3bc-3629f983a7ec"
      },
      "execution_count": null,
      "outputs": [
        {
          "output_type": "stream",
          "name": "stdout",
          "text": [
            "Hello world\n"
          ]
        }
      ]
    },
    {
      "cell_type": "code",
      "source": [],
      "metadata": {
        "id": "NVpmyfNf_xBH"
      },
      "execution_count": null,
      "outputs": []
    },
    {
      "cell_type": "code",
      "source": [
        "1+1"
      ],
      "metadata": {
        "id": "wKzRFAbC_yi6",
        "outputId": "742a669d-7c48-4eaa-b529-24b75bfe1a10",
        "colab": {
          "base_uri": "https://localhost:8080/"
        }
      },
      "execution_count": 1,
      "outputs": [
        {
          "output_type": "execute_result",
          "data": {
            "text/plain": [
              "2"
            ]
          },
          "metadata": {},
          "execution_count": 1
        }
      ]
    },
    {
      "cell_type": "code",
      "source": [
        "10+20\n",
        "3/7\n",
        "_*3\n",
        "result=3*5\n",
        "result\n",
        "3*result\n",
        "type(result)\n",
        "type('hello')"
      ],
      "metadata": {
        "colab": {
          "base_uri": "https://localhost:8080/",
          "height": 231
        },
        "id": "AqMfpWKz6EzB",
        "outputId": "7ffe7f7c-3ea8-4f79-c6db-1c14fcb48af2"
      },
      "execution_count": null,
      "outputs": [
        {
          "output_type": "error",
          "ename": "TypeError",
          "evalue": "unsupported operand type(s) for *: 'type' and 'int'",
          "traceback": [
            "\u001b[0;31m---------------------------------------------------------------------------\u001b[0m",
            "\u001b[0;31mTypeError\u001b[0m                                 Traceback (most recent call last)",
            "\u001b[0;32m<ipython-input-14-941e3cb6b4fb>\u001b[0m in \u001b[0;36m<cell line: 3>\u001b[0;34m()\u001b[0m\n\u001b[1;32m      1\u001b[0m \u001b[0;36m10\u001b[0m\u001b[0;34m+\u001b[0m\u001b[0;36m20\u001b[0m\u001b[0;34m\u001b[0m\u001b[0;34m\u001b[0m\u001b[0m\n\u001b[1;32m      2\u001b[0m \u001b[0;36m3\u001b[0m\u001b[0;34m/\u001b[0m\u001b[0;36m7\u001b[0m\u001b[0;34m\u001b[0m\u001b[0;34m\u001b[0m\u001b[0m\n\u001b[0;32m----> 3\u001b[0;31m \u001b[0m_\u001b[0m\u001b[0;34m*\u001b[0m\u001b[0;36m3\u001b[0m\u001b[0;34m\u001b[0m\u001b[0;34m\u001b[0m\u001b[0m\n\u001b[0m\u001b[1;32m      4\u001b[0m \u001b[0mresult\u001b[0m\u001b[0;34m=\u001b[0m\u001b[0;36m3\u001b[0m\u001b[0;34m*\u001b[0m\u001b[0;36m5\u001b[0m\u001b[0;34m\u001b[0m\u001b[0;34m\u001b[0m\u001b[0m\n\u001b[1;32m      5\u001b[0m \u001b[0mresult\u001b[0m\u001b[0;34m\u001b[0m\u001b[0;34m\u001b[0m\u001b[0m\n",
            "\u001b[0;31mTypeError\u001b[0m: unsupported operand type(s) for *: 'type' and 'int'"
          ]
        }
      ]
    },
    {
      "cell_type": "code",
      "source": [
        "'a'+'b'\n",
        "'ab'*4\n",
        "\"b'b\"\n",
        "'bb/+b'"
      ],
      "metadata": {
        "colab": {
          "base_uri": "https://localhost:8080/",
          "height": 55
        },
        "id": "pruVFARz-SX2",
        "outputId": "31618f1f-de80-4e54-d34a-a48e9054cce3"
      },
      "execution_count": null,
      "outputs": [
        {
          "output_type": "execute_result",
          "data": {
            "text/plain": [
              "'bb/+b'"
            ],
            "application/vnd.google.colaboratory.intrinsic+json": {
              "type": "string"
            }
          },
          "metadata": {},
          "execution_count": 19
        }
      ]
    },
    {
      "cell_type": "code",
      "source": [
        "\"\"\"this is line 1\n",
        "this is line 2\n",
        "this is line 3\"\"\""
      ],
      "metadata": {
        "colab": {
          "base_uri": "https://localhost:8080/",
          "height": 55
        },
        "id": "zcusWjiRAAxO",
        "outputId": "791ff42b-ad6b-426b-f04b-9104b62208fb"
      },
      "execution_count": null,
      "outputs": [
        {
          "output_type": "execute_result",
          "data": {
            "text/plain": [
              "'this is line 1 \\nthis is line 2\\nthis is line 3'"
            ],
            "application/vnd.google.colaboratory.intrinsic+json": {
              "type": "string"
            }
          },
          "metadata": {},
          "execution_count": 21
        }
      ]
    },
    {
      "cell_type": "code",
      "source": [
        "mystring = 'Hello world'\n",
        "mystring\n",
        "('Hello world'"
      ],
      "metadata": {
        "colab": {
          "base_uri": "https://localhost:8080/",
          "height": 196
        },
        "id": "zgcjYrNvBETQ",
        "outputId": "7ffb4e54-f77b-4778-c7e3-750d0ce28c28"
      },
      "execution_count": null,
      "outputs": [
        {
          "output_type": "error",
          "ename": "NameError",
          "evalue": "name 'split' is not defined",
          "traceback": [
            "\u001b[0;31m---------------------------------------------------------------------------\u001b[0m",
            "\u001b[0;31mNameError\u001b[0m                                 Traceback (most recent call last)",
            "\u001b[0;32m<ipython-input-29-90ad993596b9>\u001b[0m in \u001b[0;36m<cell line: 3>\u001b[0;34m()\u001b[0m\n\u001b[1;32m      1\u001b[0m \u001b[0mmystring\u001b[0m \u001b[0;34m=\u001b[0m \u001b[0;34m'Hello world'\u001b[0m\u001b[0;34m\u001b[0m\u001b[0;34m\u001b[0m\u001b[0m\n\u001b[1;32m      2\u001b[0m \u001b[0mmystring\u001b[0m\u001b[0;34m\u001b[0m\u001b[0;34m\u001b[0m\u001b[0m\n\u001b[0;32m----> 3\u001b[0;31m \u001b[0msplit\u001b[0m\u001b[0;34m(\u001b[0m\u001b[0;34m'Hello world'\u001b[0m\u001b[0;34m)\u001b[0m\u001b[0;34m\u001b[0m\u001b[0;34m\u001b[0m\u001b[0m\n\u001b[0m",
            "\u001b[0;31mNameError\u001b[0m: name 'split' is not defined"
          ]
        }
      ]
    },
    {
      "cell_type": "code",
      "source": [
        "'Hello world'.split()"
      ],
      "metadata": {
        "colab": {
          "base_uri": "https://localhost:8080/"
        },
        "id": "wU-5QvKiCoV9",
        "outputId": "a8af4cc6-1d4d-4072-975a-5a58401caee8"
      },
      "execution_count": null,
      "outputs": [
        {
          "output_type": "execute_result",
          "data": {
            "text/plain": [
              "['Hello', 'world']"
            ]
          },
          "metadata": {},
          "execution_count": 30
        }
      ]
    },
    {
      "cell_type": "code",
      "source": [
        "'Hello world' .replace('H','h')"
      ],
      "metadata": {
        "colab": {
          "base_uri": "https://localhost:8080/",
          "height": 55
        },
        "id": "1dn-py8yC4Sh",
        "outputId": "03c904fd-08bc-42f2-820d-a592e66d6434"
      },
      "execution_count": null,
      "outputs": [
        {
          "output_type": "execute_result",
          "data": {
            "text/plain": [
              "'hello world'"
            ],
            "application/vnd.google.colaboratory.intrinsic+json": {
              "type": "string"
            }
          },
          "metadata": {},
          "execution_count": 31
        }
      ]
    },
    {
      "cell_type": "code",
      "source": [
        "'Hello world' .replace ('world', 'student') .upper()"
      ],
      "metadata": {
        "colab": {
          "base_uri": "https://localhost:8080/",
          "height": 55
        },
        "id": "mAmFzaK7EY-7",
        "outputId": "47cef721-c0a3-4b8a-aa63-1e1d77e2d751"
      },
      "execution_count": null,
      "outputs": [
        {
          "output_type": "execute_result",
          "data": {
            "text/plain": [
              "'HELLO STUDENT'"
            ],
            "application/vnd.google.colaboratory.intrinsic+json": {
              "type": "string"
            }
          },
          "metadata": {},
          "execution_count": 33
        }
      ]
    },
    {
      "cell_type": "code",
      "source": [
        "my_age=24\n",
        "f'my age is {my_age}'\n",
        "f'my age is not {my_age-17} '"
      ],
      "metadata": {
        "colab": {
          "base_uri": "https://localhost:8080/",
          "height": 55
        },
        "id": "xLPUUA5yFLIb",
        "outputId": "b1f3d0a2-1c9c-4327-91b6-845e2d727298"
      },
      "execution_count": null,
      "outputs": [
        {
          "output_type": "execute_result",
          "data": {
            "text/plain": [
              "'my age is not 7 '"
            ],
            "application/vnd.google.colaboratory.intrinsic+json": {
              "type": "string"
            }
          },
          "metadata": {},
          "execution_count": 35
        }
      ]
    },
    {
      "cell_type": "code",
      "source": [
        "name='Harry'\n",
        "age=12\n",
        "f'{name} is {12}  '"
      ],
      "metadata": {
        "colab": {
          "base_uri": "https://localhost:8080/",
          "height": 55
        },
        "id": "f7xzLbeyGAQA",
        "outputId": "31e4e4e7-f88c-4179-9416-2a2270a42d97"
      },
      "execution_count": null,
      "outputs": [
        {
          "output_type": "execute_result",
          "data": {
            "text/plain": [
              "'Harry is 12  '"
            ],
            "application/vnd.google.colaboratory.intrinsic+json": {
              "type": "string"
            }
          },
          "metadata": {},
          "execution_count": 37
        }
      ]
    },
    {
      "cell_type": "code",
      "source": [
        "print('Hello, World')"
      ],
      "metadata": {
        "id": "rnkdP81yACSV",
        "outputId": "ca9aab5f-62f3-4c71-ee7a-80baa6622472",
        "colab": {
          "base_uri": "https://localhost:8080/"
        }
      },
      "execution_count": 2,
      "outputs": [
        {
          "output_type": "stream",
          "name": "stdout",
          "text": [
            "Hello, World\n"
          ]
        }
      ]
    },
    {
      "cell_type": "code",
      "source": [
        "print(1)\n",
        "print('pink frog')\n",
        "print('A tab:\\t and some text')\n",
        "print()\n",
        "print('My age is:', 117)\n",
        "print('My age is 117')"
      ],
      "metadata": {
        "id": "lsaSy1gEBJJ3",
        "outputId": "038a09ca-7979-4bc8-c685-f20e039b7755",
        "colab": {
          "base_uri": "https://localhost:8080/"
        }
      },
      "execution_count": 5,
      "outputs": [
        {
          "output_type": "stream",
          "name": "stdout",
          "text": [
            "1\n",
            "pink frog\n",
            "A tab:\t and some text\n",
            "\n",
            "My age is: 117\n",
            "My age is 117\n"
          ]
        }
      ]
    },
    {
      "cell_type": "code",
      "source": [
        "door_is_locked=True\n",
        "if door_is_locked:\n",
        "  print('Mum, open the door')"
      ],
      "metadata": {
        "id": "LdU2J97dDTf_",
        "outputId": "711c1ab9-77ad-42ca-ef04-00e1c2a51996",
        "colab": {
          "base_uri": "https://localhost:8080/"
        }
      },
      "execution_count": 8,
      "outputs": [
        {
          "output_type": "stream",
          "name": "stdout",
          "text": [
            "Mum, open the door\n"
          ]
        }
      ]
    },
    {
      "cell_type": "code",
      "source": [
        "i_am_hungry=False\n",
        "if i_am_hungry:\n",
        "    print('go eat')\n",
        "else:\n",
        "    print('don\\'t eat')"
      ],
      "metadata": {
        "id": "FscV3wUxDp43",
        "outputId": "58dc3a1c-aa3b-4120-ccc7-f2bc21e20788",
        "colab": {
          "base_uri": "https://localhost:8080/"
        }
      },
      "execution_count": 13,
      "outputs": [
        {
          "output_type": "stream",
          "name": "stdout",
          "text": [
            "don't eat\n"
          ]
        }
      ]
    },
    {
      "cell_type": "code",
      "source": [
        "3>2\n",
        "7==4\n",
        "4!=2"
      ],
      "metadata": {
        "id": "gz8QE-rHGKeP",
        "outputId": "c35a6d50-a1e7-483e-d1ff-b9098180ed7a",
        "colab": {
          "base_uri": "https://localhost:8080/"
        }
      },
      "execution_count": 17,
      "outputs": [
        {
          "output_type": "execute_result",
          "data": {
            "text/plain": [
              "True"
            ]
          },
          "metadata": {},
          "execution_count": 17
        }
      ]
    },
    {
      "cell_type": "code",
      "source": [
        "from re import M\n",
        "if M==M:\n",
        "    print('haha')\n"
      ],
      "metadata": {
        "id": "jAEIc862GdV5",
        "outputId": "f9c29eed-bbda-4506-9db7-16a92d849821",
        "colab": {
          "base_uri": "https://localhost:8080/"
        }
      },
      "execution_count": 18,
      "outputs": [
        {
          "output_type": "stream",
          "name": "stdout",
          "text": [
            "haha\n"
          ]
        }
      ]
    },
    {
      "cell_type": "code",
      "source": [
        "my_frog=True\n",
        "if my_frog:\n",
        "  print('My frog')"
      ],
      "metadata": {
        "id": "RmnYKCPbGvb_",
        "outputId": "bc94976e-b1fc-437b-e4f5-bb3e9fc67262",
        "colab": {
          "base_uri": "https://localhost:8080/"
        }
      },
      "execution_count": 33,
      "outputs": [
        {
          "output_type": "stream",
          "name": "stdout",
          "text": [
            "My frog\n"
          ]
        }
      ]
    },
    {
      "cell_type": "code",
      "source": [
        "if 'My frog'=='My frog':\n",
        "    print ('My frog')"
      ],
      "metadata": {
        "id": "wsn9G9QWIuBF",
        "outputId": "9f95f4e5-070c-4f87-c03e-13c0eb100cca",
        "colab": {
          "base_uri": "https://localhost:8080/"
        }
      },
      "execution_count": 34,
      "outputs": [
        {
          "output_type": "stream",
          "name": "stdout",
          "text": [
            "My frog\n"
          ]
        }
      ]
    },
    {
      "cell_type": "code",
      "source": [
        "not True\n",
        "True and True\n",
        "True and False"
      ],
      "metadata": {
        "id": "YLqbwaDaJjyj",
        "outputId": "37976574-8320-4c94-98db-c0f078ad3f3c",
        "colab": {
          "base_uri": "https://localhost:8080/"
        }
      },
      "execution_count": 37,
      "outputs": [
        {
          "output_type": "execute_result",
          "data": {
            "text/plain": [
              "False"
            ]
          },
          "metadata": {},
          "execution_count": 37
        }
      ]
    },
    {
      "cell_type": "code",
      "source": [
        "my_frog=True\n",
        "my_froggie=False\n",
        "if my_frog or my_froggie:\n",
        "    print('I love frogs')"
      ],
      "metadata": {
        "id": "wGad9Cr9JtTb",
        "outputId": "71fbade0-fcec-4265-bb12-fcd8d0d5f4b3",
        "colab": {
          "base_uri": "https://localhost:8080/"
        }
      },
      "execution_count": 39,
      "outputs": [
        {
          "output_type": "stream",
          "name": "stdout",
          "text": [
            "I love frogs\n"
          ]
        }
      ]
    },
    {
      "cell_type": "code",
      "source": [
        "for letter in 'Hello':\n",
        "    print(letter)\n",
        "for number in '123':\n",
        "    print(number)"
      ],
      "metadata": {
        "id": "5ZZ84V5uMXfR",
        "outputId": "20b92dc1-9c60-45ca-c66a-2d95a95b3cfb",
        "colab": {
          "base_uri": "https://localhost:8080/"
        }
      },
      "execution_count": 41,
      "outputs": [
        {
          "output_type": "stream",
          "name": "stdout",
          "text": [
            "H\n",
            "e\n",
            "l\n",
            "l\n",
            "o\n",
            "1\n",
            "2\n",
            "3\n"
          ]
        }
      ]
    },
    {
      "cell_type": "code",
      "source": [
        "for letter in 'Hello':\n",
        "    print('no')"
      ],
      "metadata": {
        "id": "7oHEp9eUNigA",
        "outputId": "99def18a-9f84-4cd6-c8f0-88786d9dd635",
        "colab": {
          "base_uri": "https://localhost:8080/"
        }
      },
      "execution_count": 42,
      "outputs": [
        {
          "output_type": "stream",
          "name": "stdout",
          "text": [
            "no\n",
            "no\n",
            "no\n",
            "no\n",
            "no\n"
          ]
        }
      ]
    },
    {
      "cell_type": "code",
      "source": [
        "mylist = [1, 'apples', 'granola', 'maple syrup', 2, 'tofu', 'rice', 'carrots']\n",
        "for item in mylist:\n",
        "    print(item)\n",
        "print(mylist[3])\n",
        "mylist[3]+mylist[6]\n",
        "mylist[2][4]"
      ],
      "metadata": {
        "id": "Va4DR8MQOc3O",
        "outputId": "b5931421-33a7-4023-f5fc-7de89f111e9f",
        "colab": {
          "base_uri": "https://localhost:8080/",
          "height": 211
        }
      },
      "execution_count": 47,
      "outputs": [
        {
          "output_type": "stream",
          "name": "stdout",
          "text": [
            "1\n",
            "apples\n",
            "granola\n",
            "maple syrup\n",
            "2\n",
            "tofu\n",
            "rice\n",
            "carrots\n",
            "maple syrup\n"
          ]
        },
        {
          "output_type": "execute_result",
          "data": {
            "text/plain": [
              "'o'"
            ],
            "application/vnd.google.colaboratory.intrinsic+json": {
              "type": "string"
            }
          },
          "metadata": {},
          "execution_count": 47
        }
      ]
    },
    {
      "cell_type": "code",
      "source": [
        "i=1\n",
        "while i<=4:\n",
        "    print(i)\n",
        "    i=i+1"
      ],
      "metadata": {
        "id": "dUzqeR6kKAZv",
        "outputId": "5bdf33d7-bea7-4823-e507-5d3f74c96649",
        "colab": {
          "base_uri": "https://localhost:8080/"
        }
      },
      "execution_count": 49,
      "outputs": [
        {
          "output_type": "stream",
          "name": "stdout",
          "text": [
            "1\n",
            "2\n",
            "3\n",
            "4\n"
          ]
        }
      ]
    },
    {
      "cell_type": "code",
      "source": [
        "mylength=len('Hello')\n",
        "print(mylength)\n",
        "red=len('sweatshirt')\n",
        "print(red)"
      ],
      "metadata": {
        "id": "1-PJkBVuUUtC",
        "outputId": "017c9a39-519c-4d7b-93be-ffaac179bed9",
        "colab": {
          "base_uri": "https://localhost:8080/"
        }
      },
      "execution_count": 54,
      "outputs": [
        {
          "output_type": "stream",
          "name": "stdout",
          "text": [
            "5\n",
            "10\n"
          ]
        }
      ]
    },
    {
      "cell_type": "code",
      "source": [
        "def say_hi():\n",
        "  print('Hi!')\n",
        "say_hi()\n",
        "def maths():\n",
        "  print(1+3)\n",
        "maths()\n",
        "cat=True\n",
        "dog=False\n",
        "def conditions():\n",
        "  if cat==cat:\n",
        "    print('that\\'s true!')\n",
        "conditions()"
      ],
      "metadata": {
        "id": "USUGsIT0U4wl",
        "outputId": "b81d1743-79ff-4637-b1d0-2efccc9e563e",
        "colab": {
          "base_uri": "https://localhost:8080/"
        }
      },
      "execution_count": 70,
      "outputs": [
        {
          "output_type": "stream",
          "name": "stdout",
          "text": [
            "Hi!\n",
            "4\n",
            "that's true!\n"
          ]
        }
      ]
    },
    {
      "cell_type": "code",
      "source": [
        "def say_hi(name):\n",
        "  print('Hi', name)\n",
        "say_hi('Froggie')"
      ],
      "metadata": {
        "id": "ool5cAVhhcH8",
        "outputId": "87ca9446-0701-4309-ffbf-5713d2e4ff44",
        "colab": {
          "base_uri": "https://localhost:8080/"
        }
      },
      "execution_count": 71,
      "outputs": [
        {
          "output_type": "stream",
          "name": "stdout",
          "text": [
            "Hi Froggie\n"
          ]
        }
      ]
    },
    {
      "cell_type": "code",
      "source": [
        "maths()"
      ],
      "metadata": {
        "id": "8WwE1C9JWmFf",
        "outputId": "2017f668-3742-4f15-ced9-b36239f05d4a",
        "colab": {
          "base_uri": "https://localhost:8080/"
        }
      },
      "execution_count": 67,
      "outputs": [
        {
          "output_type": "stream",
          "name": "stdout",
          "text": [
            "4\n"
          ]
        }
      ]
    },
    {
      "cell_type": "code",
      "source": [
        "def welcome(name, location):\n",
        "  print('Hi', name, 'welcome to', location)\n",
        "\n",
        "welcome('Froggie', 'our beautiful island')"
      ],
      "metadata": {
        "id": "olabLnoQh8wr",
        "outputId": "6ee555f5-826e-4ea4-e09a-7a8d5d7d84ca",
        "colab": {
          "base_uri": "https://localhost:8080/"
        }
      },
      "execution_count": 72,
      "outputs": [
        {
          "output_type": "stream",
          "name": "stdout",
          "text": [
            "Hi Froggie welcome to our beautiful island\n"
          ]
        }
      ]
    },
    {
      "cell_type": "code",
      "source": [
        "def add(a, b):\n",
        "  return a + b\n",
        "\n",
        "result=add(4,8)\n",
        "print(result)\n",
        "\n",
        "second=add(3,17)\n",
        "print(second)\n",
        "\n",
        "if add(1,1)==2:\n",
        "  print('I thought so!')"
      ],
      "metadata": {
        "id": "ES1l0-KRjIDS",
        "outputId": "059f017e-efd0-4b2c-9ed2-2a9d8cd76a19",
        "colab": {
          "base_uri": "https://localhost:8080/"
        }
      },
      "execution_count": 75,
      "outputs": [
        {
          "output_type": "stream",
          "name": "stdout",
          "text": [
            "12\n",
            "20\n",
            "I thought so!\n"
          ]
        }
      ]
    },
    {
      "cell_type": "code",
      "source": [
        "def not_everyone(name):\n",
        "  if name.startswith('F'):\n",
        "    return\n",
        "  print('Hi there', name)\n",
        "\n",
        "not_everyone('Franquant')\n",
        "not_everyone('Lord Farquant')"
      ],
      "metadata": {
        "id": "XlyYZdWjkFq5",
        "outputId": "49c7e76c-e722-454a-fcba-cec2b8367fcb",
        "colab": {
          "base_uri": "https://localhost:8080/"
        }
      },
      "execution_count": 78,
      "outputs": [
        {
          "output_type": "stream",
          "name": "stdout",
          "text": [
            "Hi there Lord Farquant\n"
          ]
        }
      ]
    },
    {
      "cell_type": "code",
      "source": [],
      "metadata": {
        "id": "H7zUtlUujmcg"
      },
      "execution_count": null,
      "outputs": []
    }
  ]
}